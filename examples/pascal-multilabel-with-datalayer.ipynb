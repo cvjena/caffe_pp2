{
 "cells": [
  {
   "cell_type": "markdown",
   "metadata": {},
   "source": [
    "# Multilabel classification on PASCAL using python data-layers"
   ]
  },
  {
   "cell_type": "markdown",
   "metadata": {},
   "source": [
    "In this tutorial we will do multilabel classification on PASCAL VOC 2012.\n",
    "\n",
    "Multilabel classification is a generalization of multiclass classification, where each instance (image) can belong to many classes. For example, an image may both belong to a \"beach\" category and a \"vacation pictures\" category. In multiclass classification, on the other hand, each image belongs to a single class.\n",
    "\n",
    "Caffe supports multilabel classification through the SigmoidCrossEntropyLoss layer, and we will load data using a Python data layer. Data could also be provided through HDF5 or LMDB data layers, but the python data layer provides endless flexibility, so that's what we will use."
   ]
  },
  {
   "cell_type": "markdown",
   "metadata": {},
   "source": [
    "### 1. Preliminaries\n",
    "\n",
    "* First, make sure you compile caffe using\n",
    "WITH_PYTHON_LAYER := 1\n",
    "\n",
    "* Second, download PASCAL VOC 2012. It's available here: http://host.robots.ox.ac.uk/pascal/VOC/voc2012/index.html\n",
    "\n",
    "* Third, import modules:"
   ]
  },
  {
   "cell_type": "code",
   "execution_count": null,
   "metadata": {
    "collapsed": true
   },
   "outputs": [],
   "source": [
    "import sys \n",
    "import os\n",
    "\n",
    "import numpy as np\n",
    "import os.path as osp\n",
    "import matplotlib.pyplot as plt\n",
    "\n",
    "from copy import copy\n",
    "\n",
    "% matplotlib inline\n",
    "plt.rcParams['figure.figsize'] = (6, 6)\n",
    "\n",
    "caffe_root = '../'  # this file is expected to be in {caffe_root}/examples\n",
    "sys.path.append(caffe_root + 'python')\n",
    "import caffe # If you get \"No module named _caffe\", either you have not built pycaffe or you have the wrong path.\n",
    "\n",
    "from caffe import layers as L, params as P # Shortcuts to define the net prototxt.\n",
    "\n",
    "sys.path.append(\"pycaffe/layers\") # the datalayers we will use are in this directory.\n",
    "sys.path.append(\"pycaffe\") # the tools file is in this folder\n",
    "\n",
    "import tools #this contains some tools that we need"
   ]
  },
  {
   "cell_type": "markdown",
   "metadata": {},
   "source": [
    "* Fourth, set data directories and initialize caffe"
   ]
  },
  {
   "cell_type": "code",
   "execution_count": null,
   "metadata": {
    "collapsed": false
   },
   "outputs": [],
   "source": [
    "# set data root directory, e.g:\n",
    "pascal_root = osp.join(caffe_root, 'data/pascal/VOC2012')\n",
    "\n",
    "# these are the PASCAL classes, we'll need them later.\n",
    "classes = np.asarray(['aeroplane', 'bicycle', 'bird', 'boat', 'bottle', 'bus', 'car', 'cat', 'chair', 'cow', 'diningtable', 'dog', 'horse', 'motorbike', 'person', 'pottedplant', 'sheep', 'sofa', 'train', 'tvmonitor'])\n",
    "\n",
    "# make sure we have the caffenet weight downloaded.\n",
    "if not os.path.isfile(caffe_root + 'models/bvlc_reference_caffenet/bvlc_reference_caffenet.caffemodel'):\n",
    "    print(\"Downloading pre-trained CaffeNet model...\")\n",
    "    !../scripts/download_model_binary.py ../models/bvlc_reference_caffenet\n",
    "\n",
    "# initialize caffe for gpu mode\n",
    "caffe.set_mode_gpu()\n",
    "caffe.set_device(0)"
   ]
  },
  {
   "cell_type": "markdown",
   "metadata": {},
   "source": [
    "### 2. Define network prototxts\n",
    "\n",
    "* Let's start by defining the nets using caffe.NetSpec. Note how we used the SigmoidCrossEntropyLoss layer. This is the right loss for multilabel classification. Also note how the data layer is defined."
   ]
  },
  {
   "cell_type": "code",
   "execution_count": null,
   "metadata": {
    "collapsed": false
   },
   "outputs": [],
   "source": [
    "# helper function for common structures\n",
    "def conv_relu(bottom, ks, nout, stride=1, pad=0, group=1):\n",
    "    conv = L.Convolution(bottom, kernel_size=ks, stride=stride,\n",
    "                                num_output=nout, pad=pad, group=group)\n",
    "    return conv, L.ReLU(conv, in_place=True)\n",
    "\n",
    "# another helper function\n",
    "def fc_relu(bottom, nout):\n",
    "    fc = L.InnerProduct(bottom, num_output=nout)\n",
    "    return fc, L.ReLU(fc, in_place=True)\n",
    "\n",
    "# yet another helper function\n",
    "def max_pool(bottom, ks, stride=1):\n",
    "    return L.Pooling(bottom, pool=P.Pooling.MAX, kernel_size=ks, stride=stride)\n",
    "\n",
    "# main netspec wrapper\n",
    "def caffenet_multilabel(data_layer_params, datalayer):\n",
    "    # setup the python data layer \n",
    "    n = caffe.NetSpec()\n",
    "    n.data, n.label = L.Python(module = 'pascal_multilabel_datalayers', layer = datalayer, \n",
    "                               ntop = 2, param_str=str(data_layer_params))\n",
    "\n",
    "    # the net itself\n",
    "    n.conv1, n.relu1 = conv_relu(n.data, 11, 96, stride=4)\n",
    "    n.pool1 = max_pool(n.relu1, 3, stride=2)\n",
    "    n.norm1 = L.LRN(n.pool1, local_size=5, alpha=1e-4, beta=0.75)\n",
    "    n.conv2, n.relu2 = conv_relu(n.norm1, 5, 256, pad=2, group=2)\n",
    "    n.pool2 = max_pool(n.relu2, 3, stride=2)\n",
    "    n.norm2 = L.LRN(n.pool2, local_size=5, alpha=1e-4, beta=0.75)\n",
    "    n.conv3, n.relu3 = conv_relu(n.norm2, 3, 384, pad=1)\n",
    "    n.conv4, n.relu4 = conv_relu(n.relu3, 3, 384, pad=1, group=2)\n",
    "    n.conv5, n.relu5 = conv_relu(n.relu4, 3, 256, pad=1, group=2)\n",
    "    n.pool5 = max_pool(n.relu5, 3, stride=2)\n",
    "    n.fc6, n.relu6 = fc_relu(n.pool5, 4096)\n",
    "    n.drop6 = L.Dropout(n.relu6, in_place=True)\n",
    "    n.fc7, n.relu7 = fc_relu(n.drop6, 4096)\n",
    "    n.drop7 = L.Dropout(n.relu7, in_place=True)\n",
    "    n.score = L.InnerProduct(n.drop7, num_output=20)\n",
    "    n.loss = L.SigmoidCrossEntropyLoss(n.score, n.label)\n",
    "    \n",
    "    return str(n.to_proto())"
   ]
  },
  {
   "cell_type": "markdown",
   "metadata": {},
   "source": [
    "### 3. Write nets and solver files\n",
    "\n",
    "* Now we can crete net and solver prototxts. For the solver, we use the CaffeSolver class from the \"tools\" module"
   ]
  },
  {
   "cell_type": "code",
   "execution_count": null,
   "metadata": {
    "collapsed": false
   },
   "outputs": [],
   "source": [
    "workdir = './pascal_multilabel_with_datalayer'\n",
    "if not os.path.isdir(workdir):\n",
    "    os.makedirs(workdir)\n",
    "\n",
    "solverprototxt = tools.CaffeSolver(trainnet_prototxt_path = osp.join(workdir, \"trainnet.prototxt\"), testnet_prototxt_path = osp.join(workdir, \"valnet.prototxt\"))\n",
    "solverprototxt.sp['display'] = \"1\"\n",
    "solverprototxt.sp['base_lr'] = \"0.0001\"\n",
    "solverprototxt.write(osp.join(workdir, 'solver.prototxt'))\n",
    "\n",
    "# write train net.\n",
    "with open(osp.join(workdir, 'trainnet.prototxt'), 'w') as f:\n",
    "    # provide parameters to the data layer as a python dictionary. Easy as pie!\n",
    "    data_layer_params = dict(batch_size = 128, im_shape = [227, 227], split = 'train', pascal_root = pascal_root)\n",
    "    f.write(caffenet_multilabel(data_layer_params, 'PascalMultilabelDataLayerSync'))\n",
    "\n",
    "# write validation net.\n",
    "with open(osp.join(workdir, 'valnet.prototxt'), 'w') as f:\n",
    "    data_layer_params = dict(batch_size = 128, im_shape = [227, 227], split = 'val', pascal_root = pascal_root)\n",
    "    f.write(caffenet_multilabel(data_layer_params, 'PascalMultilabelDataLayerSync'))"
   ]
  },
  {
   "cell_type": "markdown",
   "metadata": {},
   "source": [
    "* This net uses a python datalayer: 'PascalMultilabelDataLayerSync', which is defined in './pycaffe/layers/pascal_multilabel_datalayers.py'. \n",
    "\n",
    "* Take a look at the code. It's quite straight-forward, and gives you full control over data and labels.\n",
    "\n",
    "* Now we can load the caffe solver as usual."
   ]
  },
  {
   "cell_type": "code",
   "execution_count": null,
   "metadata": {
    "collapsed": false
   },
   "outputs": [],
   "source": [
    "solver = caffe.SGDSolver(osp.join(workdir, 'solver.prototxt'))\n",
    "solver.net.copy_from(caffe_root + 'models/bvlc_reference_caffenet/bvlc_reference_caffenet.caffemodel')\n",
    "solver.test_nets[0].share_with(solver.net)\n",
    "solver.step(1)"
   ]
  },
  {
   "cell_type": "markdown",
   "metadata": {},
   "source": [
    "* Let's check the data we have loaded."
   ]
  },
  {
   "cell_type": "code",
   "execution_count": null,
   "metadata": {
    "collapsed": false
   },
   "outputs": [],
   "source": [
    "transformer = tools.SimpleTransformer() # This is simply to add back the bias, re-shuffle the color channels to RGB, and so on...\n",
    "image_index = 0 # First image in the batch.\n",
    "plt.figure()\n",
    "plt.imshow(transformer.deprocess(copy(solver.net.blobs['data'].data[image_index, ...])))\n",
    "gtlist = solver.net.blobs['label'].data[image_index, ...].astype(np.int)\n",
    "plt.title('GT: {}'.format(classes[np.where(gtlist)]))\n",
    "plt.axis('off');"
   ]
  },
  {
   "cell_type": "markdown",
   "metadata": {},
   "source": [
    "* NOTE: we are readin the image from the data layer, so the resolution is lower than the original PASCAL image."
   ]
  },
  {
   "cell_type": "markdown",
   "metadata": {},
   "source": [
    "### 4. Train a net.\n",
    "\n",
    "* Let's train the net. First, though, we need some way to measure the accuracy. Hamming distance is commonly used in multilabel problems. We also need a simple test loop. Let's write that down. "
   ]
  },
  {
   "cell_type": "code",
   "execution_count": null,
   "metadata": {
    "collapsed": false
   },
   "outputs": [],
   "source": [
    "def hamming_distance(gt, est):\n",
    "    return sum([1 for (g, e) in zip(gt, est) if g == e]) / float(len(gt))\n",
    "\n",
    "def check_accuracy(net, num_batches, batch_size = 128):\n",
    "    acc = 0.0\n",
    "    for t in range(num_batches):\n",
    "        net.forward()\n",
    "        gts = net.blobs['label'].data\n",
    "        ests = net.blobs['score'].data > 0\n",
    "        for gt, est in zip(gts, ests): #for each ground truth and estimated label vector\n",
    "            acc += hamming_distance(gt, est)\n",
    "    return acc / (num_batches * batch_size)"
   ]
  },
  {
   "cell_type": "markdown",
   "metadata": {},
   "source": [
    "* Alright, now let's train for a while"
   ]
  },
  {
   "cell_type": "code",
   "execution_count": null,
   "metadata": {
    "collapsed": false
   },
   "outputs": [],
   "source": [
    "for itt in range(6):\n",
    "    solver.step(100)\n",
    "    print 'itt:{:3d}'.format((itt + 1) * 100), 'accuracy:{0:.4f}'.format(check_accuracy(solver.test_nets[0], 50))"
   ]
  },
  {
   "cell_type": "markdown",
   "metadata": {},
   "source": [
    "* Great, the accuracy is increasing, and it seems to converge rather quickly. It may seem strange that it starts off so high but it is because the ground truth is sparse. There are 20 classes in PASCAL, and usually only one or two is present. So predicting all zeros yields rather high accuracy. Let's check to make sure."
   ]
  },
  {
   "cell_type": "code",
   "execution_count": null,
   "metadata": {
    "collapsed": false
   },
   "outputs": [],
   "source": [
    "def check_baseline_accuracy(net, num_batches, batch_size = 128):\n",
    "    acc = 0.0\n",
    "    for t in range(num_batches):\n",
    "        net.forward()\n",
    "        gts = net.blobs['label'].data\n",
    "        ests = np.zeros((batch_size, len(gts)))\n",
    "        for gt, est in zip(gts, ests): #for each ground truth and estimated label vector\n",
    "            acc += hamming_distance(gt, est)\n",
    "    return acc / (num_batches * batch_size)\n",
    "\n",
    "print 'Baseline accuracy:{0:.4f}'.format(check_baseline_accuracy(solver.test_nets[0], 5823/128))"
   ]
  },
  {
   "cell_type": "markdown",
   "metadata": {
    "collapsed": true
   },
   "source": [
    "### 6. Look at some prediction results"
   ]
  },
  {
   "cell_type": "code",
   "execution_count": null,
   "metadata": {
    "collapsed": false,
    "scrolled": false
   },
   "outputs": [],
   "source": [
    "test_net = solver.test_nets[0]\n",
    "for image_index in range(5):\n",
    "    plt.figure()\n",
    "    plt.imshow(transformer.deprocess(copy(test_net.blobs['data'].data[image_index, ...])))\n",
    "    gtlist = test_net.blobs['label'].data[image_index, ...].astype(np.int)\n",
    "    estlist = test_net.blobs['score'].data[image_index, ...] > 0\n",
    "    plt.title('GT: {} \\n EST: {}'.format(classes[np.where(gtlist)], classes[np.where(estlist)]))\n",
    "    plt.axis('off')"
   ]
  }
 ],
 "metadata": {
  "description": "Multilabel classification on PASCAL VOC using a Python data layer.",
  "example_name": "Multilabel Classification with Python Data Layer",
  "include_in_docs": true,
  "kernelspec": {
   "display_name": "Python 2",
   "language": "python",
   "name": "python2"
  },
  "language_info": {
   "codemirror_mode": {
    "name": "ipython",
    "version": 2
   },
   "file_extension": ".py",
   "mimetype": "text/x-python",
   "name": "python",
   "nbconvert_exporter": "python",
   "pygments_lexer": "ipython2",
   "version": "2.7.11"
  },
  "priority": 5
 },
 "nbformat": 4,
 "nbformat_minor": 0
}
