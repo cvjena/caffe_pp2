{
 "cells": [
  {
   "cell_type": "markdown",
   "metadata": {},
   "source": [
    "### Setup\n",
    "\n",
    "Import Caffe and the usual modules."
   ]
  },
  {
   "cell_type": "code",
   "execution_count": null,
   "metadata": {
    "collapsed": false
   },
   "outputs": [],
   "source": [
    "import numpy as np\n",
    "import matplotlib.pyplot as plt\n",
    "%matplotlib inline\n",
    "\n",
    "# Make sure that caffe is on the python path:\n",
    "caffe_root = '../../'  # this file is expected to be in {caffe_root}/examples/siamese\n",
    "import sys\n",
    "sys.path.insert(0, caffe_root + 'python')\n",
    "\n",
    "import caffe"
   ]
  },
  {
   "cell_type": "markdown",
   "metadata": {},
   "source": [
    "### Load the trained net\n",
    "\n",
    "Load the model definition and weights and set to CPU mode TEST phase computation with input scaling."
   ]
  },
  {
   "cell_type": "code",
   "execution_count": null,
   "metadata": {
    "collapsed": false
   },
   "outputs": [],
   "source": [
    "MODEL_FILE = 'mnist_siamese.prototxt'\n",
    "# decrease if you want to preview during training\n",
    "PRETRAINED_FILE = 'mnist_siamese_iter_50000.caffemodel' \n",
    "caffe.set_mode_cpu()\n",
    "net = caffe.Net(MODEL_FILE, PRETRAINED_FILE, caffe.TEST)"
   ]
  },
  {
   "cell_type": "markdown",
   "metadata": {},
   "source": [
    "### Load some MNIST test data"
   ]
  },
  {
   "cell_type": "code",
   "execution_count": null,
   "metadata": {
    "collapsed": false
   },
   "outputs": [],
   "source": [
    "TEST_DATA_FILE = '../../data/mnist/t10k-images-idx3-ubyte'\n",
    "TEST_LABEL_FILE = '../../data/mnist/t10k-labels-idx1-ubyte'\n",
    "n = 10000\n",
    "\n",
    "with open(TEST_DATA_FILE, 'rb') as f:\n",
    "    f.read(16) # skip the header\n",
    "    raw_data = np.fromstring(f.read(n * 28*28), dtype=np.uint8)\n",
    "\n",
    "with open(TEST_LABEL_FILE, 'rb') as f:\n",
    "    f.read(8) # skip the header\n",
    "    labels = np.fromstring(f.read(n), dtype=np.uint8)"
   ]
  },
  {
   "cell_type": "markdown",
   "metadata": {},
   "source": [
    "### Generate the Siamese features"
   ]
  },
  {
   "cell_type": "code",
   "execution_count": null,
   "metadata": {
    "collapsed": false
   },
   "outputs": [],
   "source": [
    "# reshape and preprocess\n",
    "caffe_in = raw_data.reshape(n, 1, 28, 28) * 0.00390625 # manually scale data instead of using `caffe.io.Transformer`\n",
    "out = net.forward_all(data=caffe_in)"
   ]
  },
  {
   "cell_type": "markdown",
   "metadata": {},
   "source": [
    "### Visualize the learned Siamese embedding"
   ]
  },
  {
   "cell_type": "code",
   "execution_count": null,
   "metadata": {
    "collapsed": false
   },
   "outputs": [],
   "source": [
    "feat = out['feat']\n",
    "f = plt.figure(figsize=(16,9))\n",
    "c = ['#ff0000', '#ffff00', '#00ff00', '#00ffff', '#0000ff', \n",
    "     '#ff00ff', '#990000', '#999900', '#009900', '#009999']\n",
    "for i in range(10):\n",
    "    plt.plot(feat[labels==i,0].flatten(), feat[labels==i,1].flatten(), '.', c=c[i])\n",
    "plt.legend(['0', '1', '2', '3', '4', '5', '6', '7', '8', '9'])\n",
    "plt.grid()\n",
    "plt.show()"
   ]
  }
 ],
 "metadata": {
  "description": "Extracting features and plotting the Siamese network embedding.",
  "example_name": "Siamese network embedding",
  "include_in_docs": true,
  "kernelspec": {
   "display_name": "Python 2",
   "language": "python",
   "name": "python2"
  },
  "language_info": {
   "codemirror_mode": {
    "name": "ipython",
    "version": 2
   },
   "file_extension": ".py",
   "mimetype": "text/x-python",
   "name": "python",
   "nbconvert_exporter": "python",
   "pygments_lexer": "ipython2",
   "version": "2.7.9"
  },
  "priority": 7
 },
 "nbformat": 4,
 "nbformat_minor": 0
}
