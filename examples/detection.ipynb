{
 "cells": [
  {
   "cell_type": "markdown",
   "metadata": {},
   "source": [
    "[R-CNN](https://github.com/rbgirshick/rcnn) is a state-of-the-art detector that classifies region proposals by a finetuned Caffe model. For the full details of the R-CNN system and model, refer to its project site and the paper:\n",
    "\n",
    "> *Rich feature hierarchies for accurate object detection and semantic segmentation*. Ross Girshick, Jeff Donahue, Trevor Darrell, Jitendra Malik. CVPR 2014. [Arxiv 2013](http://arxiv.org/abs/1311.2524).\n",
    "\n",
    "In this example, we do detection by a pure Caffe edition of the R-CNN model for ImageNet. The R-CNN detector outputs class scores for the 200 detection classes of ILSVRC13. Keep in mind that these are raw one vs. all SVM scores, so they are not probabilistically calibrated or exactly comparable across classes. Note that this off-the-shelf model is simply for convenience, and is not the full R-CNN model.\n",
    "\n",
    "Let's run detection on an image of a bicyclist riding a fish bike in the desert (from the ImageNet challenge—no joke).\n",
    "\n",
    "First, we'll need region proposals and the Caffe R-CNN ImageNet model:\n",
    "\n",
    "- [Selective Search](http://koen.me/research/selectivesearch/) is the region proposer used by R-CNN. The [selective_search_ijcv_with_python](https://github.com/sergeyk/selective_search_ijcv_with_python) Python module takes care of extracting proposals through the selective search MATLAB implementation. To install it, download the module and name its directory `selective_search_ijcv_with_python`, run the demo in MATLAB to compile the necessary functions, then add it to your `PYTHONPATH` for importing. (If you have your own region proposals prepared, or would rather not bother with this step, [detect.py](https://github.com/BVLC/caffe/blob/master/python/detect.py) accepts a list of images and bounding boxes as CSV.)\n",
    "\n",
    "-Run `./scripts/download_model_binary.py models/bvlc_reference_rcnn_ilsvrc13` to get the Caffe R-CNN ImageNet model.\n",
    "\n",
    "With that done, we'll call the bundled `detect.py` to generate the region proposals and run the network. For an explanation of the arguments, do `./detect.py --help`."
   ]
  },
  {
   "cell_type": "code",
   "execution_count": null,
   "metadata": {
    "collapsed": false
   },
   "outputs": [],
   "source": [
    "!mkdir -p _temp\n",
    "!echo `pwd`/images/fish-bike.jpg > _temp/det_input.txt\n",
    "!../python/detect.py --crop_mode=selective_search --pretrained_model=../models/bvlc_reference_rcnn_ilsvrc13/bvlc_reference_rcnn_ilsvrc13.caffemodel --model_def=../models/bvlc_reference_rcnn_ilsvrc13/deploy.prototxt --gpu --raw_scale=255 _temp/det_input.txt _temp/det_output.h5"
   ]
  },
  {
   "cell_type": "markdown",
   "metadata": {},
   "source": [
    "This run was in GPU mode. For CPU mode detection, call `detect.py` without the `--gpu` argument.\n",
    "\n",
    "Running this outputs a DataFrame with the filenames, selected windows, and their detection scores to an HDF5 file.\n",
    "(We only ran on one image, so the filenames will all be the same.)"
   ]
  },
  {
   "cell_type": "code",
   "execution_count": null,
   "metadata": {
    "collapsed": false
   },
   "outputs": [],
   "source": [
    "import numpy as np\n",
    "import pandas as pd\n",
    "import matplotlib.pyplot as plt\n",
    "%matplotlib inline\n",
    "\n",
    "df = pd.read_hdf('_temp/det_output.h5', 'df')\n",
    "print(df.shape)\n",
    "print(df.iloc[0])"
   ]
  },
  {
   "cell_type": "markdown",
   "metadata": {},
   "source": [
    "1570 regions were proposed with the R-CNN configuration of selective search. The number of proposals will vary from image to image based on its contents and size -- selective search isn't scale invariant.\n",
    "\n",
    "In general, `detect.py` is most efficient when running on a lot of images: it first extracts window proposals for all of them, batches the windows for efficient GPU processing, and then outputs the results.\n",
    "Simply list an image per line in the `images_file`, and it will process all of them.\n",
    "\n",
    "Although this guide gives an example of R-CNN ImageNet detection, `detect.py` is clever enough to adapt to different Caffe models’ input dimensions, batch size, and output categories. You can switch the model definition and pretrained model as desired. Refer to `python detect.py --help` for the parameters to describe your data set. There's no need for hardcoding.\n",
    "\n",
    "Anyway, let's now load the ILSVRC13 detection class names and make a DataFrame of the predictions. Note you'll need the auxiliary ilsvrc2012 data fetched by `data/ilsvrc12/get_ilsvrc12_aux.sh`."
   ]
  },
  {
   "cell_type": "code",
   "execution_count": null,
   "metadata": {
    "collapsed": false
   },
   "outputs": [],
   "source": [
    "with open('../data/ilsvrc12/det_synset_words.txt') as f:\n",
    "    labels_df = pd.DataFrame([\n",
    "        {\n",
    "            'synset_id': l.strip().split(' ')[0],\n",
    "            'name': ' '.join(l.strip().split(' ')[1:]).split(',')[0]\n",
    "        }\n",
    "        for l in f.readlines()\n",
    "    ])\n",
    "labels_df.sort('synset_id')\n",
    "predictions_df = pd.DataFrame(np.vstack(df.prediction.values), columns=labels_df['name'])\n",
    "print(predictions_df.iloc[0])"
   ]
  },
  {
   "cell_type": "markdown",
   "metadata": {},
   "source": [
    "Let's look at the activations."
   ]
  },
  {
   "cell_type": "code",
   "execution_count": null,
   "metadata": {
    "collapsed": false
   },
   "outputs": [],
   "source": [
    "plt.gray()\n",
    "plt.matshow(predictions_df.values)\n",
    "plt.xlabel('Classes')\n",
    "plt.ylabel('Windows')"
   ]
  },
  {
   "cell_type": "markdown",
   "metadata": {},
   "source": [
    "Now let's take max across all windows and plot the top classes."
   ]
  },
  {
   "cell_type": "code",
   "execution_count": null,
   "metadata": {
    "collapsed": false
   },
   "outputs": [],
   "source": [
    "max_s = predictions_df.max(0)\n",
    "max_s.sort(ascending=False)\n",
    "print(max_s[:10])"
   ]
  },
  {
   "cell_type": "markdown",
   "metadata": {},
   "source": [
    "The top detections are in fact a person and bicycle.\n",
    "Picking good localizations is a work in progress; we pick the top-scoring person and bicycle detections."
   ]
  },
  {
   "cell_type": "code",
   "execution_count": null,
   "metadata": {
    "collapsed": false
   },
   "outputs": [],
   "source": [
    "# Find, print, and display the top detections: person and bicycle.\n",
    "i = predictions_df['person'].argmax()\n",
    "j = predictions_df['bicycle'].argmax()\n",
    "\n",
    "# Show top predictions for top detection.\n",
    "f = pd.Series(df['prediction'].iloc[i], index=labels_df['name'])\n",
    "print('Top detection:')\n",
    "print(f.order(ascending=False)[:5])\n",
    "print('')\n",
    "\n",
    "# Show top predictions for second-best detection.\n",
    "f = pd.Series(df['prediction'].iloc[j], index=labels_df['name'])\n",
    "print('Second-best detection:')\n",
    "print(f.order(ascending=False)[:5])\n",
    "\n",
    "# Show top detection in red, second-best top detection in blue.\n",
    "im = plt.imread('images/fish-bike.jpg')\n",
    "plt.imshow(im)\n",
    "currentAxis = plt.gca()\n",
    "\n",
    "det = df.iloc[i]\n",
    "coords = (det['xmin'], det['ymin']), det['xmax'] - det['xmin'], det['ymax'] - det['ymin']\n",
    "currentAxis.add_patch(plt.Rectangle(*coords, fill=False, edgecolor='r', linewidth=5))\n",
    "\n",
    "det = df.iloc[j]\n",
    "coords = (det['xmin'], det['ymin']), det['xmax'] - det['xmin'], det['ymax'] - det['ymin']\n",
    "currentAxis.add_patch(plt.Rectangle(*coords, fill=False, edgecolor='b', linewidth=5))"
   ]
  },
  {
   "cell_type": "markdown",
   "metadata": {},
   "source": [
    "That's cool. Let's take all 'bicycle' detections and NMS them to get rid of overlapping windows."
   ]
  },
  {
   "cell_type": "code",
   "execution_count": null,
   "metadata": {
    "collapsed": false
   },
   "outputs": [],
   "source": [
    "def nms_detections(dets, overlap=0.3):\n",
    "    \"\"\"\n",
    "    Non-maximum suppression: Greedily select high-scoring detections and\n",
    "    skip detections that are significantly covered by a previously\n",
    "    selected detection.\n",
    "\n",
    "    This version is translated from Matlab code by Tomasz Malisiewicz,\n",
    "    who sped up Pedro Felzenszwalb's code.\n",
    "\n",
    "    Parameters\n",
    "    ----------\n",
    "    dets: ndarray\n",
    "        each row is ['xmin', 'ymin', 'xmax', 'ymax', 'score']\n",
    "    overlap: float\n",
    "        minimum overlap ratio (0.3 default)\n",
    "\n",
    "    Output\n",
    "    ------\n",
    "    dets: ndarray\n",
    "        remaining after suppression.\n",
    "    \"\"\"\n",
    "    x1 = dets[:, 0]\n",
    "    y1 = dets[:, 1]\n",
    "    x2 = dets[:, 2]\n",
    "    y2 = dets[:, 3]\n",
    "    ind = np.argsort(dets[:, 4])\n",
    "\n",
    "    w = x2 - x1\n",
    "    h = y2 - y1\n",
    "    area = (w * h).astype(float)\n",
    "\n",
    "    pick = []\n",
    "    while len(ind) > 0:\n",
    "        i = ind[-1]\n",
    "        pick.append(i)\n",
    "        ind = ind[:-1]\n",
    "\n",
    "        xx1 = np.maximum(x1[i], x1[ind])\n",
    "        yy1 = np.maximum(y1[i], y1[ind])\n",
    "        xx2 = np.minimum(x2[i], x2[ind])\n",
    "        yy2 = np.minimum(y2[i], y2[ind])\n",
    "\n",
    "        w = np.maximum(0., xx2 - xx1)\n",
    "        h = np.maximum(0., yy2 - yy1)\n",
    "\n",
    "        wh = w * h\n",
    "        o = wh / (area[i] + area[ind] - wh)\n",
    "\n",
    "        ind = ind[np.nonzero(o <= overlap)[0]]\n",
    "\n",
    "    return dets[pick, :]"
   ]
  },
  {
   "cell_type": "code",
   "execution_count": null,
   "metadata": {
    "collapsed": false
   },
   "outputs": [],
   "source": [
    "scores = predictions_df['bicycle']\n",
    "windows = df[['xmin', 'ymin', 'xmax', 'ymax']].values\n",
    "dets = np.hstack((windows, scores[:, np.newaxis]))\n",
    "nms_dets = nms_detections(dets)"
   ]
  },
  {
   "cell_type": "markdown",
   "metadata": {},
   "source": [
    "Show top 3 NMS'd detections for 'bicycle' in the image and note the gap between the top scoring box (red) and the remaining boxes."
   ]
  },
  {
   "cell_type": "code",
   "execution_count": null,
   "metadata": {
    "collapsed": false
   },
   "outputs": [],
   "source": [
    "plt.imshow(im)\n",
    "currentAxis = plt.gca()\n",
    "colors = ['r', 'b', 'y']\n",
    "for c, det in zip(colors, nms_dets[:3]):\n",
    "    currentAxis.add_patch(\n",
    "        plt.Rectangle((det[0], det[1]), det[2]-det[0], det[3]-det[1],\n",
    "        fill=False, edgecolor=c, linewidth=5)\n",
    "    )\n",
    "print 'scores:', nms_dets[:3, 4]"
   ]
  },
  {
   "cell_type": "markdown",
   "metadata": {},
   "source": [
    "This was an easy instance for bicycle as it was in the class's training set. However, the person result is a true detection since this was not in the set for that class.\n",
    "\n",
    "You should try out detection on an image of your own next!"
   ]
  },
  {
   "cell_type": "markdown",
   "metadata": {},
   "source": [
    "(Remove the temp directory to clean up, and we're done.)"
   ]
  },
  {
   "cell_type": "code",
   "execution_count": null,
   "metadata": {
    "collapsed": false
   },
   "outputs": [],
   "source": [
    "!rm -rf _temp"
   ]
  }
 ],
 "metadata": {
  "description": "Run a pretrained model as a detector in Python.",
  "example_name": "R-CNN detection",
  "include_in_docs": true,
  "kernelspec": {
   "display_name": "Python 2",
   "language": "python",
   "name": "python2"
  },
  "language_info": {
   "codemirror_mode": {
    "name": "ipython",
    "version": 2
   },
   "file_extension": ".py",
   "mimetype": "text/x-python",
   "name": "python",
   "nbconvert_exporter": "python",
   "pygments_lexer": "ipython2",
   "version": "2.7.9"
  },
  "priority": 6
 },
 "nbformat": 4,
 "nbformat_minor": 0
}
