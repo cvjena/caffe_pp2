{
 "cells": [
  {
   "cell_type": "markdown",
   "metadata": {},
   "source": [
    "# Brewing Logistic Regression then Going Deeper\n",
    "\n",
    "While Caffe is made for deep networks it can likewise represent \"shallow\" models like logistic regression for classification. We'll do simple logistic regression on synthetic data that we'll generate and save to HDF5 to feed vectors to Caffe. Once that model is done, we'll add layers to improve accuracy. That's what Caffe is about: define a model, experiment, and then deploy."
   ]
  },
  {
   "cell_type": "code",
   "execution_count": null,
   "metadata": {
    "collapsed": false
   },
   "outputs": [],
   "source": [
    "import numpy as np\n",
    "import matplotlib.pyplot as plt\n",
    "%matplotlib inline\n",
    "\n",
    "import os\n",
    "os.chdir('..')\n",
    "\n",
    "import sys\n",
    "sys.path.insert(0, './python')\n",
    "import caffe\n",
    "\n",
    "\n",
    "import os\n",
    "import h5py\n",
    "import shutil\n",
    "import tempfile\n",
    "\n",
    "import sklearn\n",
    "import sklearn.datasets\n",
    "import sklearn.linear_model\n",
    "\n",
    "import pandas as pd"
   ]
  },
  {
   "cell_type": "markdown",
   "metadata": {},
   "source": [
    "Synthesize a dataset of 10,000 4-vectors for binary classification with 2 informative features and 2 noise features."
   ]
  },
  {
   "cell_type": "code",
   "execution_count": null,
   "metadata": {
    "collapsed": false
   },
   "outputs": [],
   "source": [
    "X, y = sklearn.datasets.make_classification(\n",
    "    n_samples=10000, n_features=4, n_redundant=0, n_informative=2, \n",
    "    n_clusters_per_class=2, hypercube=False, random_state=0\n",
    ")\n",
    "\n",
    "# Split into train and test\n",
    "X, Xt, y, yt = sklearn.cross_validation.train_test_split(X, y)\n",
    "\n",
    "# Visualize sample of the data\n",
    "ind = np.random.permutation(X.shape[0])[:1000]\n",
    "df = pd.DataFrame(X[ind])\n",
    "_ = pd.scatter_matrix(df, figsize=(9, 9), diagonal='kde', marker='o', s=40, alpha=.4, c=y[ind])"
   ]
  },
  {
   "cell_type": "markdown",
   "metadata": {},
   "source": [
    "Learn and evaluate scikit-learn's logistic regression with stochastic gradient descent (SGD) training. Time and check the classifier's accuracy."
   ]
  },
  {
   "cell_type": "code",
   "execution_count": null,
   "metadata": {
    "collapsed": false
   },
   "outputs": [],
   "source": [
    "%%timeit\n",
    "# Train and test the scikit-learn SGD logistic regression.\n",
    "clf = sklearn.linear_model.SGDClassifier(\n",
    "    loss='log', n_iter=1000, penalty='l2', alpha=5e-4, class_weight='auto')\n",
    "\n",
    "clf.fit(X, y)\n",
    "yt_pred = clf.predict(Xt)\n",
    "print('Accuracy: {:.3f}'.format(sklearn.metrics.accuracy_score(yt, yt_pred)))"
   ]
  },
  {
   "cell_type": "markdown",
   "metadata": {},
   "source": [
    "Save the dataset to HDF5 for loading in Caffe."
   ]
  },
  {
   "cell_type": "code",
   "execution_count": null,
   "metadata": {
    "collapsed": false
   },
   "outputs": [],
   "source": [
    "# Write out the data to HDF5 files in a temp directory.\n",
    "# This file is assumed to be caffe_root/examples/hdf5_classification.ipynb\n",
    "dirname = os.path.abspath('./examples/hdf5_classification/data')\n",
    "if not os.path.exists(dirname):\n",
    "    os.makedirs(dirname)\n",
    "\n",
    "train_filename = os.path.join(dirname, 'train.h5')\n",
    "test_filename = os.path.join(dirname, 'test.h5')\n",
    "\n",
    "# HDF5DataLayer source should be a file containing a list of HDF5 filenames.\n",
    "# To show this off, we'll list the same data file twice.\n",
    "with h5py.File(train_filename, 'w') as f:\n",
    "    f['data'] = X\n",
    "    f['label'] = y.astype(np.float32)\n",
    "with open(os.path.join(dirname, 'train.txt'), 'w') as f:\n",
    "    f.write(train_filename + '\\n')\n",
    "    f.write(train_filename + '\\n')\n",
    "    \n",
    "# HDF5 is pretty efficient, but can be further compressed.\n",
    "comp_kwargs = {'compression': 'gzip', 'compression_opts': 1}\n",
    "with h5py.File(test_filename, 'w') as f:\n",
    "    f.create_dataset('data', data=Xt, **comp_kwargs)\n",
    "    f.create_dataset('label', data=yt.astype(np.float32), **comp_kwargs)\n",
    "with open(os.path.join(dirname, 'test.txt'), 'w') as f:\n",
    "    f.write(test_filename + '\\n')"
   ]
  },
  {
   "cell_type": "markdown",
   "metadata": {},
   "source": [
    "Let's define logistic regression in Caffe through Python net specification. This is a quick and natural way to define nets that sidesteps manually editing the protobuf model."
   ]
  },
  {
   "cell_type": "code",
   "execution_count": null,
   "metadata": {
    "collapsed": false
   },
   "outputs": [],
   "source": [
    "from caffe import layers as L\n",
    "from caffe import params as P\n",
    "\n",
    "def logreg(hdf5, batch_size):\n",
    "    # logistic regression: data, matrix multiplication, and 2-class softmax loss\n",
    "    n = caffe.NetSpec()\n",
    "    n.data, n.label = L.HDF5Data(batch_size=batch_size, source=hdf5, ntop=2)\n",
    "    n.ip1 = L.InnerProduct(n.data, num_output=2, weight_filler=dict(type='xavier'))\n",
    "    n.accuracy = L.Accuracy(n.ip1, n.label)\n",
    "    n.loss = L.SoftmaxWithLoss(n.ip1, n.label)\n",
    "    return n.to_proto()\n",
    "\n",
    "train_net_path = 'examples/hdf5_classification/logreg_auto_train.prototxt'\n",
    "with open(train_net_path, 'w') as f:\n",
    "    f.write(str(logreg('examples/hdf5_classification/data/train.txt', 10)))\n",
    "\n",
    "test_net_path = 'examples/hdf5_classification/logreg_auto_test.prototxt'\n",
    "with open(test_net_path, 'w') as f:\n",
    "    f.write(str(logreg('examples/hdf5_classification/data/test.txt', 10)))"
   ]
  },
  {
   "cell_type": "markdown",
   "metadata": {},
   "source": [
    "Now, we'll define our \"solver\" which trains the network by specifying the locations of the train and test nets we defined above, as well as setting values for various parameters used for learning, display, and \"snapshotting\"."
   ]
  },
  {
   "cell_type": "code",
   "execution_count": null,
   "metadata": {
    "collapsed": false
   },
   "outputs": [],
   "source": [
    "from caffe.proto import caffe_pb2\n",
    "\n",
    "def solver(train_net_path, test_net_path):\n",
    "    s = caffe_pb2.SolverParameter()\n",
    "\n",
    "    # Specify locations of the train and test networks.\n",
    "    s.train_net = train_net_path\n",
    "    s.test_net.append(test_net_path)\n",
    "\n",
    "    s.test_interval = 1000  # Test after every 1000 training iterations.\n",
    "    s.test_iter.append(250) # Test 250 \"batches\" each time we test.\n",
    "\n",
    "    s.max_iter = 10000      # # of times to update the net (training iterations)\n",
    "\n",
    "    # Set the initial learning rate for stochastic gradient descent (SGD).\n",
    "    s.base_lr = 0.01        \n",
    "\n",
    "    # Set `lr_policy` to define how the learning rate changes during training.\n",
    "    # Here, we 'step' the learning rate by multiplying it by a factor `gamma`\n",
    "    # every `stepsize` iterations.\n",
    "    s.lr_policy = 'step'\n",
    "    s.gamma = 0.1\n",
    "    s.stepsize = 5000\n",
    "\n",
    "    # Set other optimization parameters. Setting a non-zero `momentum` takes a\n",
    "    # weighted average of the current gradient and previous gradients to make\n",
    "    # learning more stable. L2 weight decay regularizes learning, to help prevent\n",
    "    # the model from overfitting.\n",
    "    s.momentum = 0.9\n",
    "    s.weight_decay = 5e-4\n",
    "\n",
    "    # Display the current training loss and accuracy every 1000 iterations.\n",
    "    s.display = 1000\n",
    "\n",
    "    # Snapshots are files used to store networks we've trained.  Here, we'll\n",
    "    # snapshot every 10K iterations -- just once at the end of training.\n",
    "    # For larger networks that take longer to train, you may want to set\n",
    "    # snapshot < max_iter to save the network and training state to disk during\n",
    "    # optimization, preventing disaster in case of machine crashes, etc.\n",
    "    s.snapshot = 10000\n",
    "    s.snapshot_prefix = 'examples/hdf5_classification/data/train'\n",
    "\n",
    "    # We'll train on the CPU for fair benchmarking against scikit-learn.\n",
    "    # Changing to GPU should result in much faster training!\n",
    "    s.solver_mode = caffe_pb2.SolverParameter.CPU\n",
    "    \n",
    "    return s\n",
    "\n",
    "solver_path = 'examples/hdf5_classification/logreg_solver.prototxt'\n",
    "with open(solver_path, 'w') as f:\n",
    "    f.write(str(solver(train_net_path, test_net_path)))"
   ]
  },
  {
   "cell_type": "markdown",
   "metadata": {},
   "source": [
    "Time to learn and evaluate our Caffeinated logistic regression in Python."
   ]
  },
  {
   "cell_type": "code",
   "execution_count": null,
   "metadata": {
    "collapsed": false
   },
   "outputs": [],
   "source": [
    "%%timeit\n",
    "caffe.set_mode_cpu()\n",
    "solver = caffe.get_solver(solver_path)\n",
    "solver.solve()\n",
    "\n",
    "accuracy = 0\n",
    "batch_size = solver.test_nets[0].blobs['data'].num\n",
    "test_iters = int(len(Xt) / batch_size)\n",
    "for i in range(test_iters):\n",
    "    solver.test_nets[0].forward()\n",
    "    accuracy += solver.test_nets[0].blobs['accuracy'].data\n",
    "accuracy /= test_iters\n",
    "\n",
    "print(\"Accuracy: {:.3f}\".format(accuracy))"
   ]
  },
  {
   "cell_type": "markdown",
   "metadata": {},
   "source": [
    "Do the same through the command line interface for detailed output on the model and solving."
   ]
  },
  {
   "cell_type": "code",
   "execution_count": null,
   "metadata": {
    "collapsed": false
   },
   "outputs": [],
   "source": [
    "!./build/tools/caffe train -solver examples/hdf5_classification/logreg_solver.prototxt"
   ]
  },
  {
   "cell_type": "markdown",
   "metadata": {},
   "source": [
    "If you look at output or the `logreg_auto_train.prototxt`, you'll see that the model is simple logistic regression.\n",
    "We can make it a little more advanced by introducing a non-linearity between weights that take the input and weights that give the output -- now we have a two-layer network.\n",
    "That network is given in `nonlinear_auto_train.prototxt`, and that's the only change made in `nonlinear_logreg_solver.prototxt` which we will now use.\n",
    "\n",
    "The final accuracy of the new network should be higher than logistic regression!"
   ]
  },
  {
   "cell_type": "code",
   "execution_count": null,
   "metadata": {
    "collapsed": true
   },
   "outputs": [],
   "source": [
    "from caffe import layers as L\n",
    "from caffe import params as P\n",
    "\n",
    "def nonlinear_net(hdf5, batch_size):\n",
    "    # one small nonlinearity, one leap for model kind\n",
    "    n = caffe.NetSpec()\n",
    "    n.data, n.label = L.HDF5Data(batch_size=batch_size, source=hdf5, ntop=2)\n",
    "    # define a hidden layer of dimension 40\n",
    "    n.ip1 = L.InnerProduct(n.data, num_output=40, weight_filler=dict(type='xavier'))\n",
    "    # transform the output through the ReLU (rectified linear) non-linearity\n",
    "    n.relu1 = L.ReLU(n.ip1, in_place=True)\n",
    "    # score the (now non-linear) features\n",
    "    n.ip2 = L.InnerProduct(n.ip1, num_output=2, weight_filler=dict(type='xavier'))\n",
    "    # same accuracy and loss as before\n",
    "    n.accuracy = L.Accuracy(n.ip2, n.label)\n",
    "    n.loss = L.SoftmaxWithLoss(n.ip2, n.label)\n",
    "    return n.to_proto()\n",
    "\n",
    "train_net_path = 'examples/hdf5_classification/nonlinear_auto_train.prototxt'\n",
    "with open(train_net_path, 'w') as f:\n",
    "    f.write(str(nonlinear_net('examples/hdf5_classification/data/train.txt', 10)))\n",
    "\n",
    "test_net_path = 'examples/hdf5_classification/nonlinear_auto_test.prototxt'\n",
    "with open(test_net_path, 'w') as f:\n",
    "    f.write(str(nonlinear_net('examples/hdf5_classification/data/test.txt', 10)))\n",
    "\n",
    "solver_path = 'examples/hdf5_classification/nonlinear_logreg_solver.prototxt'\n",
    "with open(solver_path, 'w') as f:\n",
    "    f.write(str(solver(train_net_path, test_net_path)))"
   ]
  },
  {
   "cell_type": "code",
   "execution_count": null,
   "metadata": {
    "collapsed": false
   },
   "outputs": [],
   "source": [
    "%%timeit\n",
    "caffe.set_mode_cpu()\n",
    "solver = caffe.get_solver(solver_path)\n",
    "solver.solve()\n",
    "\n",
    "accuracy = 0\n",
    "batch_size = solver.test_nets[0].blobs['data'].num\n",
    "test_iters = int(len(Xt) / batch_size)\n",
    "for i in range(test_iters):\n",
    "    solver.test_nets[0].forward()\n",
    "    accuracy += solver.test_nets[0].blobs['accuracy'].data\n",
    "accuracy /= test_iters\n",
    "\n",
    "print(\"Accuracy: {:.3f}\".format(accuracy))"
   ]
  },
  {
   "cell_type": "markdown",
   "metadata": {},
   "source": [
    "Do the same through the command line interface for detailed output on the model and solving."
   ]
  },
  {
   "cell_type": "code",
   "execution_count": null,
   "metadata": {
    "collapsed": false
   },
   "outputs": [],
   "source": [
    "!./build/tools/caffe train -solver examples/hdf5_classification/nonlinear_logreg_solver.prototxt"
   ]
  },
  {
   "cell_type": "code",
   "execution_count": null,
   "metadata": {
    "collapsed": false
   },
   "outputs": [],
   "source": [
    "# Clean up (comment this out if you want to examine the hdf5_classification/data directory).\n",
    "shutil.rmtree(dirname)"
   ]
  }
 ],
 "metadata": {
  "description": "Use Caffe as a generic SGD optimizer to train logistic regression on non-image HDF5 data.",
  "example_name": "Off-the-shelf SGD for classification",
  "include_in_docs": true,
  "kernelspec": {
   "display_name": "Python 2",
   "language": "python",
   "name": "python2"
  },
  "language_info": {
   "codemirror_mode": {
    "name": "ipython",
    "version": 2
   },
   "file_extension": ".py",
   "mimetype": "text/x-python",
   "name": "python",
   "nbconvert_exporter": "python",
   "pygments_lexer": "ipython2",
   "version": "2.7.10"
  },
  "priority": 4
 },
 "nbformat": 4,
 "nbformat_minor": 0
}
